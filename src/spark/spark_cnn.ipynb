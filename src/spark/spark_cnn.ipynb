{
 "cells": [
  {
   "cell_type": "code",
   "execution_count": 13,
   "metadata": {},
   "outputs": [],
   "source": [
    "import pyspark as ps\n",
    "from pyspark.sql.types import *"
   ]
  },
  {
   "cell_type": "code",
   "execution_count": null,
   "metadata": {},
   "outputs": [],
   "source": [
    "spark = (ps.sql.SparkSession.builder \n",
    "        .master(\"local[3]\") \n",
    "        .appName(\"capstone\") \n",
    "        .getOrCreate()\n",
    "        )\n",
    "sc = spark.sparkContext"
   ]
  },
  {
   "cell_type": "code",
   "execution_count": 2,
   "metadata": {},
   "outputs": [],
   "source": [
    "df = spark.read.csv('../data/products_w_images.csv',header=True,inferSchema=True)"
   ]
  },
  {
   "cell_type": "code",
   "execution_count": 7,
   "metadata": {},
   "outputs": [
    {
     "name": "stdout",
     "output_type": "stream",
     "text": [
      "+---+-----------------+---------+--------------------+--------------------+--------------------+--------------------+-----------+--------------------+--------------------+--------------------+------------+-------------+--------------+--------------------+-------+--------------------+--------------------+--------------+---------+--------------------+--------+------------------+\n",
      "|_c0|vendor_variant_id|vendor_id|       product_title| product_description|         vendor_name|       taxonomy_name|taxonomy_id|             weblink|               color|            material|     pattern|is_returnable|ship_surcharge|is_assembly_required|is_feed|           image_url|     commission_tier|inventory_type| division|            category|   price|        sale_price|\n",
      "+---+-----------------+---------+--------------------+--------------------+--------------------+--------------------+-----------+--------------------+--------------------+--------------------+------------+-------------+--------------+--------------------+-------+--------------------+--------------------+--------------+---------+--------------------+--------+------------------+\n",
      "|  0|         17362369|        1|Sculptural Glass ...|Create lighting w...|            West Elm|            Lighting|     5390.0|https://www.weste...|               other|     glass and brass|       other|         True|           0.0|               False|      1|https://static.ha...|                Gold|       Regular| lighting|            lighting|   149.0|             119.0|\n",
      "|  1|          6546924|        1|Minted for west e...|This unique item ...|            West Elm|   Beds & Bed Frames|     5478.0|http://www.westel...|               other|Framed watercolor...|       other|         True|           0.0|               False|      0|https://static.ha...|                Gold|       Regular|furniture|   bedroom furniture|   159.0|             159.0|\n",
      "|  3|         12004788|        1|Logan Bed- Queen,...|               other|            West Elm|   Beds & Bed Frames|     5478.0|https://www.weste...|               other|   solid Acacia wood|       other|         True|           0.0|               False|      0|https://static.ha...|                Gold|       Regular|furniture|   bedroom furniture|  1699.0|            1699.0|\n",
      "| 14|          6242787|        1|Grid-Tufted Uphol...|Tuft love. Uphols...|            West Elm|   Beds & Bed Frames|     5478.0|https://www.weste...|               other|Heathered Crosshatch|       other|         True|           0.0|               False|      0|https://s3.amazon...|                Gold|       Regular|furniture|   bedroom furniture|  1099.0|            1099.0|\n",
      "| 15|          6531362|        1|Polly Upholstered...|With cascading ed...|            West Elm|   Beds & Bed Frames|     5478.0|http://www.westel...|               other|          Solid Wood|       other|         True|           0.0|               False|      0|https://static.ha...|                Gold|       Regular|furniture|   bedroom furniture|  1349.0|            1349.0|\n",
      "| 23|         15857678|        1|Faceted Terrarium...|Home grown. These...|            West Elm|              Plants|     5639.0|https://www.weste...|               other|        Metal, Glass|       other|         True|           0.0|               False|      0|https://static.ha...|                Gold|       Regular|    decor|decorative access...|    34.0|              34.0|\n",
      "| 24|         17119647|        1|Capiz Zigzag Chan...|\"Shining shells. ...| translucent appe...|            West Elm|   Lighting|              5390.0|https://www.weste...|               other|shell, metal|        other|          True|                 0.0|  False|                   0|https://static.ha...|          Gold|  Regular|            lighting|lighting|             399.0|\n",
      "| 25|          6374124|        1|Rhodes Upholstere...|Dream big. Inspir...|            West Elm|   Beds & Bed Frames|     5478.0|http://www.westel...|               other|Metal frame, line...|       other|         True|           0.0|               False|      0|https://static.ha...|                Gold|       Regular|furniture|   bedroom furniture|  1599.0|            1599.0|\n",
      "| 26|          6529623|        1|Josef Upholstered...|Inspired by Danis...|            West Elm|   Beds & Bed Frames|     5478.0|http://www.westel...|               other|solid wood, yarn-...|       other|         True|         100.0|               False|      0|https://static.ha...|                Gold|       Regular|furniture|   bedroom furniture|   999.0|             999.0|\n",
      "| 36|          6904002|        1|Deco Metal Tree, ...|Add simple holida...|            West Elm|Seasonal & Holida...|     5429.0|http://www.westel...|               other|               other|       other|         True|           0.0|               False|      1|https://static.ha...|                Gold|       Regular|    decor|decorative access...|    44.0|14.990000000000002|\n",
      "| 48|          6887562|        1|Mid Century Banqu...|Our Mid-Century B...|            West Elm|           Serveware|     6659.0|https://www.weste...|               other|          Solid Wood|       other|         True|           0.0|               False|      1|https://static.ha...|                Gold|       Regular|    other|unmapped - low pr...|   299.0|             299.0|\n",
      "| 51|          6922528|        1|Nash Metal + Wood...|Teak isn't just f...|            West Elm|   Beds & Bed Frames|     5478.0|http://www.westel...|               other|               other|       other|         True|           0.0|               False|      1|https://static.ha...|                Gold|       Regular|furniture|   bedroom furniture|  2299.0|            2299.0|\n",
      "| 52|         16800109|        1|Massaro Platform Bed|               other|            West Elm|   Beds & Bed Frames|     5478.0|https://www.weste...|               other|Oak veneer over e...|       other|         True|           0.0|               False|      0|https://static.ha...|                Gold|       Regular|furniture|   bedroom furniture|  1399.0|            1399.0|\n",
      "| 59|          6453609|        1|  Glass Ball Objects|Round out your sp...|            West Elm|           Drinkware|     6637.0|http://www.westel...|               other|               other|       other|         True|           0.0|               False|      0|https://static.ha...|                Gold|       Regular|    other|unmapped - low pr...|    36.0|              36.0|\n",
      "| 62|         17066205|        1|Belgian Linen Sta...|Our Belgian Linen...|            West Elm|    Linens & Bedding|     5375.0|https://www.weste...|               other|               Linen|       other|         True|           0.0|               False|      0|https://static.ha...|                Gold|       Regular| textiles|             bedding|    44.0|              44.0|\n",
      "| 72|         14612571|        1|Mod Upholstered P...|Take cover. Fully...|            West Elm|   Beds & Bed Frames|     5478.0|https://www.weste...|               other|wood, heathered c...|       other|         True|           0.0|               False|      0|https://static.ha...|                Gold|       Regular|furniture|   bedroom furniture|   999.0|             999.0|\n",
      "| 78|          8182013|        1|Gramercy Coverlet...|The subtle sheen ...|            West Elm| Quilts & Comforters|     5636.0|https://www.weste...|               other|100% repreve(r) r...|       other|         True|           0.0|               False|      1|https://static.ha...|                Gold|       Regular| textiles|             bedding|   169.0|             89.99|\n",
      "| 80|          6299507|        1|Lexington Quilt, ...|Soft mannered. Th...|            West Elm| Quilts & Comforters|     5636.0|http://www.westel...|               other|      100% Polyester|       other|         True|           0.0|               False|      0|https://static.ha...|                Gold|       Regular| textiles|             bedding|   129.0|             129.0|\n",
      "| 83|         16773024|        1|   Henry(r) Armchair|               other|            West Elm|              Chairs|     5914.0|https://www.weste...|               other|   eco weave, oyster|       other|         True|           0.0|               False|      0|https://static.ha...|                Gold|       Regular|furniture| occassional seating|   749.0|             749.0|\n",
      "| 84|         15624111|        1|Framed Canvas Pri...|This unique item ...|                null|                null|       null|                null|                null|                null|        null|         null|          null|                null|   null|                null|                null|          null|     null|                null|    null|              null|\n",
      "+---+-----------------+---------+--------------------+--------------------+--------------------+--------------------+-----------+--------------------+--------------------+--------------------+------------+-------------+--------------+--------------------+-------+--------------------+--------------------+--------------+---------+--------------------+--------+------------------+\n",
      "only showing top 20 rows\n",
      "\n"
     ]
    }
   ],
   "source": [
    "df.show()"
   ]
  },
  {
   "cell_type": "code",
   "execution_count": 4,
   "metadata": {},
   "outputs": [
    {
     "name": "stdout",
     "output_type": "stream",
     "text": [
      "root\n",
      " |-- _c0: string (nullable = true)\n",
      " |-- vendor_variant_id: string (nullable = true)\n",
      " |-- vendor_id: string (nullable = true)\n",
      " |-- product_title: string (nullable = true)\n",
      " |-- product_description: string (nullable = true)\n",
      " |-- vendor_name: string (nullable = true)\n",
      " |-- taxonomy_name: string (nullable = true)\n",
      " |-- taxonomy_id: string (nullable = true)\n",
      " |-- weblink: string (nullable = true)\n",
      " |-- color: string (nullable = true)\n",
      " |-- material: string (nullable = true)\n",
      " |-- pattern: string (nullable = true)\n",
      " |-- is_returnable: string (nullable = true)\n",
      " |-- ship_surcharge: string (nullable = true)\n",
      " |-- is_assembly_required: string (nullable = true)\n",
      " |-- is_feed: string (nullable = true)\n",
      " |-- image_url: string (nullable = true)\n",
      " |-- commission_tier: string (nullable = true)\n",
      " |-- inventory_type: string (nullable = true)\n",
      " |-- division: string (nullable = true)\n",
      " |-- category: string (nullable = true)\n",
      " |-- price: string (nullable = true)\n",
      " |-- sale_price: string (nullable = true)\n",
      "\n"
     ]
    }
   ],
   "source": [
    "df.printSchema()"
   ]
  },
  {
   "cell_type": "code",
   "execution_count": 10,
   "metadata": {},
   "outputs": [],
   "source": [
    "df = df.drop('_c0')"
   ]
  },
  {
   "cell_type": "code",
   "execution_count": 12,
   "metadata": {},
   "outputs": [
    {
     "name": "stdout",
     "output_type": "stream",
     "text": [
      "root\n",
      " |-- vendor_variant_id: string (nullable = true)\n",
      " |-- vendor_id: string (nullable = true)\n",
      " |-- product_title: string (nullable = true)\n",
      " |-- product_description: string (nullable = true)\n",
      " |-- vendor_name: string (nullable = true)\n",
      " |-- taxonomy_name: string (nullable = true)\n",
      " |-- taxonomy_id: string (nullable = true)\n",
      " |-- weblink: string (nullable = true)\n",
      " |-- color: string (nullable = true)\n",
      " |-- material: string (nullable = true)\n",
      " |-- pattern: string (nullable = true)\n",
      " |-- is_returnable: string (nullable = true)\n",
      " |-- ship_surcharge: string (nullable = true)\n",
      " |-- is_assembly_required: string (nullable = true)\n",
      " |-- is_feed: string (nullable = true)\n",
      " |-- image_url: string (nullable = true)\n",
      " |-- commission_tier: string (nullable = true)\n",
      " |-- inventory_type: string (nullable = true)\n",
      " |-- division: string (nullable = true)\n",
      " |-- category: string (nullable = true)\n",
      " |-- price: string (nullable = true)\n",
      " |-- sale_price: string (nullable = true)\n",
      "\n"
     ]
    }
   ],
   "source": [
    "df.printSchema()"
   ]
  },
  {
   "cell_type": "code",
   "execution_count": null,
   "metadata": {},
   "outputs": [],
   "source": [
    "df = df.withColumn('price',  )"
   ]
  },
  {
   "cell_type": "code",
   "execution_count": 1,
   "metadata": {},
   "outputs": [],
   "source": [
    "spark.stop()"
   ]
  },
  {
   "cell_type": "code",
   "execution_count": null,
   "metadata": {},
   "outputs": [],
   "source": []
  }
 ],
 "metadata": {
  "kernelspec": {
   "display_name": "Python 3",
   "language": "python",
   "name": "python3"
  },
  "language_info": {
   "codemirror_mode": {
    "name": "ipython",
    "version": 3
   },
   "file_extension": ".py",
   "mimetype": "text/x-python",
   "name": "python",
   "nbconvert_exporter": "python",
   "pygments_lexer": "ipython3",
   "version": "3.6.6"
  }
 },
 "nbformat": 4,
 "nbformat_minor": 2
}
