{
 "cells": [
  {
   "cell_type": "code",
   "execution_count": 14,
   "metadata": {},
   "outputs": [],
   "source": [
    "import pyspark as ps\n",
    "from pyspark.sql.types import *\n",
    "from pyspark.ml.clustering import LDA, KMeans\n",
    "from pyspark.ml.feature import HashingTF, IDF, Tokenizer\n",
    "from pyspark.ml.feature import VectorAssembler\n",
    "from pyspark.ml import Pipeline"
   ]
  },
  {
   "cell_type": "code",
   "execution_count": 2,
   "metadata": {},
   "outputs": [],
   "source": [
    "spark = (ps.sql.SparkSession.builder\n",
    "        .master(\"local[3]\")\n",
    "        .appName(\"capstone\")\n",
    "        .getOrCreate()\n",
    "        )\n",
    "sc = spark.sparkContext"
   ]
  },
  {
   "cell_type": "code",
   "execution_count": 7,
   "metadata": {},
   "outputs": [],
   "source": [
    "import pandas as pd\n",
    "df = pd.read_csv('s3a://capstone-3/data/products_art_only.csv')"
   ]
  },
  {
   "cell_type": "code",
   "execution_count": 8,
   "metadata": {},
   "outputs": [],
   "source": [
    "df.drop('Unnamed: 0', axis=1,inplace=True)\n",
    "spark_df = spark.createDataFrame(df)"
   ]
  },
  {
   "cell_type": "code",
   "execution_count": 9,
   "metadata": {},
   "outputs": [
    {
     "name": "stdout",
     "output_type": "stream",
     "text": [
      "root\n",
      " |-- vendor_variant_id: long (nullable = true)\n",
      " |-- vendor_id: long (nullable = true)\n",
      " |-- product_title: string (nullable = true)\n",
      " |-- product_description: string (nullable = true)\n",
      " |-- vendor_name: string (nullable = true)\n",
      " |-- taxonomy_name: string (nullable = true)\n",
      " |-- taxonomy_id: double (nullable = true)\n",
      " |-- weblink: string (nullable = true)\n",
      " |-- color: string (nullable = true)\n",
      " |-- material: string (nullable = true)\n",
      " |-- pattern: string (nullable = true)\n",
      " |-- is_returnable: boolean (nullable = true)\n",
      " |-- ship_surcharge: double (nullable = true)\n",
      " |-- is_assembly_required: boolean (nullable = true)\n",
      " |-- is_feed: long (nullable = true)\n",
      " |-- commission_tier: string (nullable = true)\n",
      " |-- inventory_type: string (nullable = true)\n",
      " |-- division: string (nullable = true)\n",
      " |-- category: string (nullable = true)\n",
      " |-- price: double (nullable = true)\n",
      " |-- sale_price: double (nullable = true)\n",
      " |-- combo: string (nullable = true)\n",
      "\n"
     ]
    }
   ],
   "source": [
    "spark_df.printSchema()"
   ]
  },
  {
   "cell_type": "code",
   "execution_count": 10,
   "metadata": {},
   "outputs": [
    {
     "name": "stdout",
     "output_type": "stream",
     "text": [
      "+--------------------+--------------------+\n",
      "|       product_title|               combo|\n",
      "+--------------------+--------------------+\n",
      "|Framed Canvas Pri...|Framed Canvas Pri...|\n",
      "|Framed Print, Abs...|Framed Print, Abs...|\n",
      "|Janel Foo Glasswo...|Janel Foo Glasswo...|\n",
      "|The Arts Capsule ...|The Arts Capsule ...|\n",
      "|Native Maps - Aus...|Native Maps - Aus...|\n",
      "|Framed Print, Tur...|Framed Print, Tur...|\n",
      "|Sarah Campbell Wa...|Sarah Campbell Wa...|\n",
      "|Framed Print, Ope...|Framed Print, Ope...|\n",
      "|Framed Print, Mid...|Framed Print, Mid...|\n",
      "|The Arts Capsule ...|The Arts Capsule ...|\n",
      "|Canvas Print - Ab...|Canvas Print - Ab...|\n",
      "|Ashley Mary Art L...|Ashley Mary Art L...|\n",
      "|The Arts Capsule ...|The Arts Capsule ...|\n",
      "|Ashley Mary Balan...|Ashley Mary Balan...|\n",
      "|The Arts Capsule ...|The Arts Capsule ...|\n",
      "|The Arts Capsule ...|The Arts Capsule ...|\n",
      "|Felt Wall Art, Bl...|Felt Wall Art, Bl...|\n",
      "|Minted for west e...|Minted for west e...|\n",
      "|Erik Barthels Pri...|Erik Barthels Pri...|\n",
      "|The Arts Capsule ...|The Arts Capsule ...|\n",
      "+--------------------+--------------------+\n",
      "only showing top 20 rows\n",
      "\n"
     ]
    }
   ],
   "source": [
    "spark_df.select('product_title','combo').show()"
   ]
  },
  {
   "cell_type": "code",
   "execution_count": 15,
   "metadata": {},
   "outputs": [],
   "source": [
    "def tfidf_pipeline():\n",
    "    tokenizer = Tokenizer(inputCol=\"combo\", outputCol=\"words\")\n",
    "    hashingTF = HashingTF(inputCol='words', outputCol=\"rawFeatures\", numFeatures=20)\n",
    "    idf = IDF(inputCol='rawFeatures', outputCol=\"features\")\n",
    "    pipeline = Pipeline(stages=[tokenizer, hashingTF, idf])\n",
    "    return pipeline"
   ]
  },
  {
   "cell_type": "code",
   "execution_count": 16,
   "metadata": {},
   "outputs": [],
   "source": [
    "pipeline = tfidf_pipeline()\n",
    "features_df = pipeline.fit(spark_df).transform(spark_df)"
   ]
  },
  {
   "cell_type": "code",
   "execution_count": 27,
   "metadata": {},
   "outputs": [],
   "source": [
    "def kmeans_rec(dataset):\n",
    "    kmeans = KMeans(k=10)\n",
    "    model = kmeans.fit(dataset)\n",
    "    result = model.transform(dataset)\n",
    "    return result\n",
    "\n",
    "#     labels = result.select('prediction')\n",
    "#     #find label for specified item\n",
    "#     #find other items with same label\n",
    "#     #return n items\n",
    "\n",
    "def get_centers(model):   # Evaluate clustering by computing Within Set Sum of Squared Errors.\n",
    "    wssse = model.computeCost(dataset)\n",
    "    print(\"Within Set Sum of Squared Errors = \" + str(wssse))\n",
    "\n",
    "    # Shows the result.\n",
    "    centers = model.clusterCenters()\n",
    "    print(\"Cluster Centers: \")\n",
    "    for center in centers:\n",
    "        print(center)\n"
   ]
  },
  {
   "cell_type": "code",
   "execution_count": 28,
   "metadata": {},
   "outputs": [],
   "source": [
    "result = kmeans_rec(features_df)"
   ]
  },
  {
   "cell_type": "code",
   "execution_count": 29,
   "metadata": {},
   "outputs": [
    {
     "name": "stdout",
     "output_type": "stream",
     "text": [
      "+-----------------+---------+--------------------+--------------------+-----------+--------------------+-----------+--------------------+-----+--------------------+-------+-------------+--------------+--------------------+-------+---------------+--------------+--------+--------+-----+----------+--------------------+--------------------+--------------------+--------------------+----------+\n",
      "|vendor_variant_id|vendor_id|       product_title| product_description|vendor_name|       taxonomy_name|taxonomy_id|             weblink|color|            material|pattern|is_returnable|ship_surcharge|is_assembly_required|is_feed|commission_tier|inventory_type|division|category|price|sale_price|               combo|               words|         rawFeatures|            features|prediction|\n",
      "+-----------------+---------+--------------------+--------------------+-----------+--------------------+-----------+--------------------+-----+--------------------+-------+-------------+--------------+--------------------+-------+---------------+--------------+--------+--------+-----+----------+--------------------+--------------------+--------------------+--------------------+----------+\n",
      "|         15624111|        1|Framed Canvas Pri...|This unique item ...|   West Elm|             Artwork|     5922.0|https://www.weste...|other|printed canvas, w...|  other|        false|           0.0|               false|      0|           Gold|       Regular|   decor|     art|459.0|     459.0|Framed Canvas Pri...|[framed, canvas, ...|(20,[0,1,2,3,4,5,...|(20,[0,1,2,3,4,5,...|         7|\n",
      "|          6923029|        1|Framed Print, Abs...|With bold, monoch...|   West Elm|Posters, Prints, ...|     5924.0|https://www.weste...|other|               other|  other|         true|           0.0|               false|      1|           Gold|       Regular|   decor|     art|  0.0|       0.0|Framed Print, Abs...|[framed, print,, ...|(20,[0,1,2,3,4,5,...|(20,[0,1,2,3,4,5,...|         8|\n",
      "|         17066892|        1|Janel Foo Glasswo...|Since discovering...|   West Elm|Posters, Prints, ...|     5924.0|https://www.weste...|other|               other|  other|         true|           0.0|               false|      1|           Gold|       Regular|   decor|     art| 82.0|      82.0|Janel Foo Glasswo...|[janel, foo, glas...|(20,[0,1,2,3,4,5,...|(20,[0,1,2,3,4,5,...|         8|\n",
      "|         21561352|        1|The Arts Capsule ...|We collaborated w...|   West Elm|Posters, Prints, ...|     5924.0|https://www.weste...|other|               other|  other|         true|           0.0|               false|      1|           Gold|       Regular|   decor|     art|329.0|     329.0|The Arts Capsule ...|[the, arts, capsu...|(20,[1,3,5,7,8,10...|(20,[1,3,5,7,8,10...|         8|\n",
      "|         13298606|        1|Native Maps - Aus...|               other|   West Elm|Posters, Prints, ...|     5924.0|https://www.weste...|other|      Acrylic screen|  other|         true|           0.0|               false|      0|           Gold|       Regular|   decor|     art| 30.0|      30.0|Native Maps - Aus...|[native, maps, -,...|(20,[0,6,7,8,14,1...|(20,[0,6,7,8,14,1...|         0|\n",
      "|          9064178|        1|Framed Print, Tur...|Seemingly simple,...|   West Elm|Posters, Prints, ...|     5924.0|https://www.weste...|other|printed on waterc...|  other|         true|           0.0|               false|      1|           Gold|       Regular|   decor|     art|229.0|     229.0|Framed Print, Tur...|[framed, print,, ...|(20,[0,1,2,3,4,5,...|(20,[0,1,2,3,4,5,...|         8|\n",
      "|         15073661|        1|Sarah Campbell Wa...|               other|   West Elm|             Artwork|     5922.0|https://www.weste...|other|              Canvas|  other|         true|           0.0|               false|      0|           Gold|       Regular|   decor|     art|699.0|     699.0|Sarah Campbell Wa...|[sarah, campbell,...|(20,[0,3,4,7,14,1...|(20,[0,3,4,7,14,1...|         0|\n",
      "|         21509501|        1|Framed Print, Ope...|This print captur...|   West Elm|Posters, Prints, ...|     5924.0|https://www.weste...|other|               other|  other|         true|           0.0|               false|      1|           Gold|       Regular|   decor|     art|249.0|     249.0|Framed Print, Ope...|[framed, print,, ...|(20,[1,2,3,4,5,6,...|(20,[1,2,3,4,5,6,...|         8|\n",
      "|          7447503|        1|Framed Print, Mid...|Bring shape and b...|   West Elm|             Artwork|     5922.0|https://www.weste...|other|    watercolor paper|  other|         true|           0.0|               false|      1|           Gold|       Regular|   decor|     art|229.0|     229.0|Framed Print, Mid...|[framed, print,, ...|(20,[0,1,2,3,4,5,...|(20,[0,1,2,3,4,5,...|         8|\n",
      "|          6337578|        1|The Arts Capsule ...|We collaborated w...|   West Elm|Posters, Prints, ...|     5924.0|http://www.westel...|other|       acrylic frame|  other|         true|           0.0|               false|      0|           Gold|       Regular|   decor|     art|199.0|     199.0|The Arts Capsule ...|[the, arts, capsu...|(20,[0,1,2,3,5,6,...|(20,[0,1,2,3,5,6,...|         7|\n",
      "|          6363363|        1|Canvas Print - Ab...|Based on artwork ...|   West Elm|Posters, Prints, ...|     5924.0|http://www.westel...|other|Canvas stretched ...|  other|         true|           0.0|               false|      0|           Gold|       Regular|   decor|     art|699.0|     699.0|Canvas Print - Ab...|[canvas, print, -...|(20,[0,1,2,3,4,5,...|(20,[0,1,2,3,4,5,...|         8|\n",
      "|         21572282|        1|Ashley Mary Art L...|Minnesota-based a...|   West Elm|Posters, Prints, ...|     5924.0|https://www.weste...|other|               other|  other|         true|           0.0|               false|      1|           Gold|       Regular|   decor|     art|750.0|     750.0|Ashley Mary Art L...|[ashley, mary, ar...|(20,[0,1,3,4,10,1...|(20,[0,1,3,4,10,1...|         8|\n",
      "|         21580700|        1|The Arts Capsule ...|We collaborated w...|   West Elm|Posters, Prints, ...|     5924.0|https://www.weste...|other|               other|  other|         true|           0.0|               false|      1|           Gold|       Regular|   decor|     art|299.0|     299.0|The Arts Capsule ...|[the, arts, capsu...|(20,[1,3,4,5,7,8,...|(20,[1,3,4,5,7,8,...|         8|\n",
      "|         21545112|        1|Ashley Mary Balan...|Minnesota-based a...|   West Elm|Posters, Prints, ...|     5924.0|https://www.weste...|other|               other|  other|         true|           0.0|               false|      1|           Gold|       Regular|   decor|     art| 80.0|      80.0|Ashley Mary Balan...|[ashley, mary, ba...|(20,[0,1,3,4,6,10...|(20,[0,1,3,4,6,10...|         8|\n",
      "|         21537255|        1|The Arts Capsule ...|We collaborated w...|   West Elm|Posters, Prints, ...|     5924.0|https://www.weste...|other|               other|  other|         true|           0.0|               false|      1|           Gold|       Regular|   decor|     art|329.0|     329.0|The Arts Capsule ...|[the, arts, capsu...|(20,[1,3,5,7,8,9,...|(20,[1,3,5,7,8,9,...|         8|\n",
      "|         21484779|        1|The Arts Capsule ...|We collaborated w...|   West Elm|Posters, Prints, ...|     5924.0|https://www.weste...|other|               other|  other|         true|           0.0|               false|      1|           Gold|       Regular|   decor|     art|279.0|     279.0|The Arts Capsule ...|[the, arts, capsu...|(20,[1,2,3,5,6,7,...|(20,[1,2,3,5,6,7,...|         8|\n",
      "|         13899322|        1|Felt Wall Art, Bl...|This wall art get...|   West Elm|             Artwork|     5922.0|https://www.weste...|other|                   /|  other|         true|           0.0|               false|      1|           Gold|       Regular|   decor|     art|249.0|     199.0|Felt Wall Art, Bl...|[felt, wall, art,...|(20,[0,1,2,3,4,5,...|(20,[0,1,2,3,4,5,...|         8|\n",
      "|          6907562|        1|Minted for west e...|This botanical, g...|   West Elm|             Artwork|     5922.0|https://www.weste...|other|               other|  other|         true|           0.0|               false|      1|           Gold|       Regular|   decor|     art|129.0|     129.0|Minted for west e...|[minted, for, wes...|(20,[1,2,3,4,5,6,...|(20,[1,2,3,4,5,6,...|         8|\n",
      "|          6920098|        1|Erik Barthels Pri...|Inspired by famil...|   West Elm|Posters, Prints, ...|     5924.0|http://www.westel...|other|                   /|  other|         true|           0.0|               false|      1|           Gold|       Regular|   decor|     art| 89.0|      89.0|Erik Barthels Pri...|[erik, barthels, ...|(20,[0,1,2,3,4,5,...|(20,[0,1,2,3,4,5,...|         8|\n",
      "|         17644870|        1|The Arts Capsule ...|We collaborated w...|   West Elm|             Artwork|     5922.0|https://www.weste...|other|               other|  other|         true|           0.0|               false|      1|           Gold|       Regular|   decor|     art|329.0|     329.0|The Arts Capsule ...|[the, arts, capsu...|(20,[1,3,4,5,6,7,...|(20,[1,3,4,5,6,7,...|         8|\n",
      "+-----------------+---------+--------------------+--------------------+-----------+--------------------+-----------+--------------------+-----+--------------------+-------+-------------+--------------+--------------------+-------+---------------+--------------+--------+--------+-----+----------+--------------------+--------------------+--------------------+--------------------+----------+\n",
      "only showing top 20 rows\n",
      "\n"
     ]
    }
   ],
   "source": [
    "result.show()"
   ]
  },
  {
   "cell_type": "code",
   "execution_count": 31,
   "metadata": {},
   "outputs": [
    {
     "name": "stdout",
     "output_type": "stream",
     "text": [
      "7432702\n"
     ]
    }
   ],
   "source": [
    "item_index = 100\n",
    "item_id = df['vendor_variant_id'].iloc[item_index]\n",
    "print(item_id)"
   ]
  },
  {
   "cell_type": "code",
   "execution_count": 35,
   "metadata": {},
   "outputs": [],
   "source": [
    "from pyspark.sql.functions import col\n",
    "item_cluster_label = result.filter(col('vendor_variant_id') == str(item_id)).select('prediction')"
   ]
  },
  {
   "cell_type": "code",
   "execution_count": 37,
   "metadata": {},
   "outputs": [
    {
     "name": "stdout",
     "output_type": "stream",
     "text": [
      "+----------+\n",
      "|prediction|\n",
      "+----------+\n",
      "|         0|\n",
      "+----------+\n",
      "\n"
     ]
    }
   ],
   "source": [
    "item_cluster_label.show()"
   ]
  },
  {
   "cell_type": "code",
   "execution_count": 41,
   "metadata": {},
   "outputs": [
    {
     "data": {
      "text/plain": [
       "0"
      ]
     },
     "execution_count": 41,
     "metadata": {},
     "output_type": "execute_result"
    }
   ],
   "source": [
    "item_cluster_label.collect()[0][0]"
   ]
  },
  {
   "cell_type": "code",
   "execution_count": 42,
   "metadata": {},
   "outputs": [],
   "source": [
    "item_cluster_label = result.filter(col('vendor_variant_id') == str(item_id)).select('prediction').collect()[0][0]"
   ]
  },
  {
   "cell_type": "code",
   "execution_count": 43,
   "metadata": {},
   "outputs": [
    {
     "data": {
      "text/plain": [
       "0"
      ]
     },
     "execution_count": 43,
     "metadata": {},
     "output_type": "execute_result"
    }
   ],
   "source": [
    "item_cluster_label"
   ]
  },
  {
   "cell_type": "code",
   "execution_count": 44,
   "metadata": {},
   "outputs": [],
   "source": [
    "cluster_members = result.filter(col('prediction') == item_cluster_label)"
   ]
  },
  {
   "cell_type": "code",
   "execution_count": 45,
   "metadata": {},
   "outputs": [
    {
     "name": "stdout",
     "output_type": "stream",
     "text": [
      "+-----------------+---------+--------------------+--------------------+----------------+--------------------+-----------+--------------------+-----+--------------------+-------+-------------+--------------+--------------------+-------+---------------+--------------+--------+--------+------+----------+--------------------+--------------------+--------------------+--------------------+----------+\n",
      "|vendor_variant_id|vendor_id|       product_title| product_description|     vendor_name|       taxonomy_name|taxonomy_id|             weblink|color|            material|pattern|is_returnable|ship_surcharge|is_assembly_required|is_feed|commission_tier|inventory_type|division|category| price|sale_price|               combo|               words|         rawFeatures|            features|prediction|\n",
      "+-----------------+---------+--------------------+--------------------+----------------+--------------------+-----------+--------------------+-----+--------------------+-------+-------------+--------------+--------------------+-------+---------------+--------------+--------+--------+------+----------+--------------------+--------------------+--------------------+--------------------+----------+\n",
      "|         13298606|        1|Native Maps - Aus...|               other|        West Elm|Posters, Prints, ...|     5924.0|https://www.weste...|other|      Acrylic screen|  other|         true|           0.0|               false|      0|           Gold|       Regular|   decor|     art|  30.0|      30.0|Native Maps - Aus...|[native, maps, -,...|(20,[0,6,7,8,14,1...|(20,[0,6,7,8,14,1...|         0|\n",
      "|         15073661|        1|Sarah Campbell Wa...|               other|        West Elm|             Artwork|     5922.0|https://www.weste...|other|              Canvas|  other|         true|           0.0|               false|      0|           Gold|       Regular|   decor|     art| 699.0|     699.0|Sarah Campbell Wa...|[sarah, campbell,...|(20,[0,3,4,7,14,1...|(20,[0,3,4,7,14,1...|         0|\n",
      "|         17102240|        1|Framed Canvas Pri...|               other|        West Elm|             Artwork|     5922.0|https://www.weste...|other|printed on canvas...|  other|         true|           0.0|               false|      0|           Gold|       Regular|   decor|     art| 299.0|     299.0|Framed Canvas Pri...|[framed, canvas, ...|(20,[0,1,2,3,4,5,...|(20,[0,1,2,3,4,5,...|         0|\n",
      "|         13378391|        1|       Wake, I print|               other|        West Elm|Posters, Prints, ...|     5924.0|https://www.weste...|other|               PRINT|  other|         true|           0.0|               false|      0|           Gold|       Regular|   decor|     art| 269.0|     269.0|Wake, I print oth...|[wake,, i, print,...|(20,[4,6,9,14],[1...|(20,[4,6,9,14],[0...|         0|\n",
      "|         15496521|        1|       Surf - Canvas|               other|        West Elm|Posters, Prints, ...|     5924.0|https://www.weste...|other|              Canvas|  other|         true|           0.0|               false|      0|           Gold|       Regular|   decor|     art| 349.0|     349.0|Surf - Canvas oth...|[surf, -, canvas,...|(20,[3,7,14,19],[...|(20,[3,7,14,19],[...|         0|\n",
      "|         20691613|        2|Vintage Swim Prin...|   Bathing beauties.|    Pottery Barn|Posters, Prints, ...|     5924.0|https://www.potte...|other|               other|  other|         true|           0.0|               false|      1|           Gold|       Regular|   decor|     art| 129.0|     103.0|Vintage Swim Prin...|[vintage, swim, p...|(20,[3,9,10,11,14...|(20,[3,9,10,11,14...|         0|\n",
      "|         16788339|        2|SNOWFALLEN LANDSCAPE|               other|    Pottery Barn|             Artwork|     5922.0|https://www.potte...|other|giclee print fram...|  other|         true|           0.0|               false|      0|           Gold|       Regular|   decor|     art| 399.0|     399.0|SNOWFALLEN LANDSC...|[snowfallen, land...|(20,[1,4,6,7,13,1...|(20,[1,4,6,7,13,1...|         0|\n",
      "|         20689963|        2|Vintage Swim Prin...|   Bathing beauties.|    Pottery Barn|Posters, Prints, ...|     5924.0|https://www.potte...|other|               other|  other|         true|           0.0|               false|      1|           Gold|       Regular|   decor|     art| 129.0|     103.0|Vintage Swim Prin...|[vintage, swim, p...|(20,[3,9,10,11,14...|(20,[3,9,10,11,14...|         0|\n",
      "|          7990064|        2|Dessi Print Rever...|We've made patter...|    Pottery Barn|Posters, Prints, ...|     5924.0|https://www.potte...|other|               other|  other|         true|           0.0|               false|      1|           Gold|       Regular|   decor|     art|  99.0|      79.0|Dessi Print Rever...|[dessi, print, re...|(20,[0,2,3,4,6,8,...|(20,[0,2,3,4,6,8,...|         0|\n",
      "|         15631766|        2|SILT SANDPIPER PRINT|Originally a vint...|    Pottery Barn|             Artwork|     5922.0|https://www.potte...|other|giclee reproducti...|  other|         true|           0.0|               false|      0|           Gold|       Regular|   decor|     art| 149.0|     149.0|SILT SANDPIPER PR...|[silt, sandpiper,...|(20,[0,2,3,4,5,6,...|(20,[0,2,3,4,5,6,...|         0|\n",
      "|         15733548|        2|Succulent Garden ...|The extraordinary...|    Pottery Barn|Posters, Prints, ...|     5924.0|https://www.potte...|other|               other|  other|         true|           0.0|               false|      1|           Gold|       Regular|   decor|     art| 149.0|     119.0|Succulent Garden ...|[succulent, garde...|(20,[2,3,5,6,7,8,...|(20,[2,3,5,6,7,8,...|         0|\n",
      "|         16771178|        7|       Fallen Virtue|               other|      Z Gallerie|             Artwork|     5922.0|https://www.zgall...|other|              Canvas|  other|         true|           0.0|               false|      0|           Gold|       Regular|   decor|     art|599.95|    599.95|Fallen Virtue oth...|[fallen, virtue, ...|(20,[6,7,14],[2.0...|(20,[6,7,14],[0.1...|         0|\n",
      "|          6637144|        5|Forge Print - Cra...|              Purple|Crate and Barrel|Posters, Prints, ...|     5924.0|https://www.crate...|other|giclee reproducti...|  glass|         true|           0.0|               false|      1|         Silver|       Regular|   decor|     art| 200.0|     200.0|Forge Print - Cra...|[forge, print, -,...|(20,[2,3,4,5,6,13...|(20,[2,3,4,5,6,13...|         0|\n",
      "|         16788869|        4|water avenue by l...|               other|             CB2|             Artwork|     5922.0|https://www.cb2.c...|other|                   /|  other|         true|           0.0|               false|      0|         Silver|       Regular|   decor|     art| 249.0|     249.0|water avenue by l...|[water, avenue, b...|(20,[3,7,8,9,14,1...|(20,[3,7,8,9,14,1...|         0|\n",
      "|          7828733|        3|Outdoor Printed G...|               other| Williams Sonoma|Posters, Prints, ...|     5924.0|http://www.willia...|other|Weather-resistant...|  other|         true|           0.0|               false|      0|           Gold|       Regular|   decor|     art|  79.0|      79.0|Outdoor Printed G...|[outdoor, printed...|(20,[0,1,2,3,4,5,...|(20,[0,1,2,3,4,5,...|         0|\n",
      "|          6939848|        7|Blush Accessories...|                   \\|      Z Gallerie|Posters, Prints, ...|     5924.0|http://www.zgalle...|other|giclee print on c...|  other|         true|           0.0|               false|      0|           Gold|       Regular|   decor|     art|599.95|    599.95|Blush Accessories...|[blush, accessori...|(20,[1,2,3,4,5,6,...|(20,[1,2,3,4,5,6,...|         0|\n",
      "|          7827358|        5|Moment in Magic P...|               other|Crate and Barrel|Posters, Prints, ...|     5924.0|https://www.crate...|other|                   .|  other|         true|           0.0|               false|      0|         Silver|       Regular|   decor|     art| 600.0|     600.0|Moment in Magic P...|[moment, in, magi...|(20,[1,5,6,14,16,...|(20,[1,5,6,14,16,...|         0|\n",
      "|          7432702|       27|Antique Aviary Gi...|               other| Ballard Designs|Posters, Prints, ...|     5924.0|http://www.ballar...|other|Made of a wood fr...|  other|         true|           0.0|               false|      0|           Gold|       Regular|   decor|     art| 199.0|     199.0|Antique Aviary Gi...|[antique, aviary,...|(20,[1,3,4,5,6,9,...|(20,[1,3,4,5,6,9,...|         0|\n",
      "|         17102546|        7|     Bisque Flower 1|Flower sculpture ...|      Z Gallerie|Posters, Prints, ...|     5924.0|https://www.zgall...|other|       linen/acrylic|  other|         true|           0.0|               false|      0|           Gold|       Regular|   decor|     art|199.95|    199.95|Bisque Flower 1 F...|[bisque, flower, ...|(20,[2,4,5,11,12,...|(20,[2,4,5,11,12,...|         0|\n",
      "|         17199869|       12|Dip-Dyed Macrame ...|               other|   Anthropologie|             Artwork|     5922.0|https://www.anthr...|other| woven cotton + wood|  other|         true|           0.0|               false|      1|           Gold|       Regular|   decor|     art|  78.0|     39.95|Dip-Dyed Macrame ...|[dip-dyed, macram...|(20,[0,1,2,4,6,11...|(20,[0,1,2,4,6,11...|         0|\n",
      "+-----------------+---------+--------------------+--------------------+----------------+--------------------+-----------+--------------------+-----+--------------------+-------+-------------+--------------+--------------------+-------+---------------+--------------+--------+--------+------+----------+--------------------+--------------------+--------------------+--------------------+----------+\n",
      "only showing top 20 rows\n",
      "\n"
     ]
    }
   ],
   "source": [
    "cluster_members.show()"
   ]
  },
  {
   "cell_type": "code",
   "execution_count": 49,
   "metadata": {},
   "outputs": [
    {
     "name": "stdout",
     "output_type": "stream",
     "text": [
      "+--------------------+--------------------+\n",
      "|       product_title|             weblink|\n",
      "+--------------------+--------------------+\n",
      "|Native Maps - Aus...|https://www.weste...|\n",
      "|Sarah Campbell Wa...|https://www.weste...|\n",
      "|Framed Canvas Pri...|https://www.weste...|\n",
      "|       Wake, I print|https://www.weste...|\n",
      "|       Surf - Canvas|https://www.weste...|\n",
      "+--------------------+--------------------+\n",
      "only showing top 5 rows\n",
      "\n"
     ]
    }
   ],
   "source": [
    "n = 5\n",
    "cluster_members.select('product_title','weblink').show(n)"
   ]
  },
  {
   "cell_type": "code",
   "execution_count": 50,
   "metadata": {},
   "outputs": [
    {
     "name": "stdout",
     "output_type": "stream",
     "text": [
      "+--------------------+--------------------+\n",
      "|       product_title|             weblink|\n",
      "+--------------------+--------------------+\n",
      "|Antique Aviary Gi...|http://www.ballar...|\n",
      "+--------------------+--------------------+\n",
      "\n"
     ]
    }
   ],
   "source": [
    "result.filter(col('vendor_variant_id') == str(item_id)).select('product_title','weblink').show()"
   ]
  },
  {
   "cell_type": "code",
   "execution_count": 51,
   "metadata": {},
   "outputs": [],
   "source": [
    "spark.stop()"
   ]
  },
  {
   "cell_type": "code",
   "execution_count": null,
   "metadata": {},
   "outputs": [],
   "source": []
  }
 ],
 "metadata": {
  "kernelspec": {
   "display_name": "Python 3",
   "language": "python",
   "name": "python3"
  },
  "language_info": {
   "codemirror_mode": {
    "name": "ipython",
    "version": 3
   },
   "file_extension": ".py",
   "mimetype": "text/x-python",
   "name": "python",
   "nbconvert_exporter": "python",
   "pygments_lexer": "ipython3",
   "version": "3.6.6"
  }
 },
 "nbformat": 4,
 "nbformat_minor": 2
}
